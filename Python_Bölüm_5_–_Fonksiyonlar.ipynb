{
  "nbformat": 4,
  "nbformat_minor": 0,
  "metadata": {
    "colab": {
      "name": "Python: Bölüm 5 – Fonksiyonlar.ipynb",
      "provenance": [],
      "authorship_tag": "ABX9TyO1ViuvcClpmf/jWMb4Jslk",
      "include_colab_link": true
    },
    "kernelspec": {
      "name": "python3",
      "display_name": "Python 3"
    }
  },
  "cells": [
    {
      "cell_type": "markdown",
      "metadata": {
        "id": "view-in-github",
        "colab_type": "text"
      },
      "source": [
        "<a href=\"https://colab.research.google.com/github/turhancan97/Data-Science-Earth-Python-Egitimi/blob/master/Python_B%C3%B6l%C3%BCm_5_%E2%80%93_Fonksiyonlar.ipynb\" target=\"_parent\"><img src=\"https://colab.research.google.com/assets/colab-badge.svg\" alt=\"Open In Colab\"/></a>"
      ]
    },
    {
      "cell_type": "code",
      "metadata": {
        "id": "pw6b4elqJ_Vw",
        "outputId": "1baf3926-191c-4201-fff5-f33c79790b0a",
        "colab": {
          "base_uri": "https://localhost:8080/"
        }
      },
      "source": [
        "def fonksiyon(): \n",
        "  pass\n",
        "print(fonksiyon())"
      ],
      "execution_count": null,
      "outputs": [
        {
          "output_type": "stream",
          "text": [
            "None\n"
          ],
          "name": "stdout"
        }
      ]
    },
    {
      "cell_type": "code",
      "metadata": {
        "id": "AN6jh1-eLWpD",
        "outputId": "53415af8-dd86-4b6e-f340-9e47cc8dd0ef",
        "colab": {
          "base_uri": "https://localhost:8080/",
          "height": 229
        }
      },
      "source": [
        "# Zorunlu Argüman Kullanımı\n",
        "\n",
        "def ekrana_yazdır(a):\n",
        "  print(a) # a argümanını ekrana yazdır\n",
        "\n",
        "ekrana_yazdır(\"Selam!!\") # Parametre doğrudan verildi\n",
        "b=\"Selam!!\"\n",
        "ekrana_yazdır(b) # Parametre değişkene atanıp fonksiyona yazıldı\n",
        "ekrana_yazdır(\"Selam!!\",\"Merahaba!!\") # Birden fazla argüman verildi"
      ],
      "execution_count": null,
      "outputs": [
        {
          "output_type": "stream",
          "text": [
            "Selam!!\n",
            "Selam!!\n"
          ],
          "name": "stdout"
        },
        {
          "output_type": "error",
          "ename": "TypeError",
          "evalue": "ignored",
          "traceback": [
            "\u001b[0;31m---------------------------------------------------------------------------\u001b[0m",
            "\u001b[0;31mTypeError\u001b[0m                                 Traceback (most recent call last)",
            "\u001b[0;32m<ipython-input-2-8d2a3638fb8a>\u001b[0m in \u001b[0;36m<module>\u001b[0;34m()\u001b[0m\n\u001b[1;32m      7\u001b[0m \u001b[0mb\u001b[0m\u001b[0;34m=\u001b[0m\u001b[0;34m\"Selam!!\"\u001b[0m\u001b[0;34m\u001b[0m\u001b[0;34m\u001b[0m\u001b[0m\n\u001b[1;32m      8\u001b[0m \u001b[0mekrana_yazdır\u001b[0m\u001b[0;34m(\u001b[0m\u001b[0mb\u001b[0m\u001b[0;34m)\u001b[0m \u001b[0;31m# Parametre değişkene atanıp fonksiyona yazıldı\u001b[0m\u001b[0;34m\u001b[0m\u001b[0;34m\u001b[0m\u001b[0m\n\u001b[0;32m----> 9\u001b[0;31m \u001b[0mekrana_yazdır\u001b[0m\u001b[0;34m(\u001b[0m\u001b[0;34m\"Selam!!\"\u001b[0m\u001b[0;34m,\u001b[0m\u001b[0;34m\"Merahaba!!\"\u001b[0m\u001b[0;34m)\u001b[0m \u001b[0;31m# Birden fazla argüman verildi\u001b[0m\u001b[0;34m\u001b[0m\u001b[0;34m\u001b[0m\u001b[0m\n\u001b[0m",
            "\u001b[0;31mTypeError\u001b[0m: ekrana_yazdır() takes 1 positional argument but 2 were given"
          ]
        }
      ]
    },
    {
      "cell_type": "code",
      "metadata": {
        "id": "IHeCmRqVOqfM",
        "outputId": "817ab5a5-ec67-4f43-fb47-494db3634ba6",
        "colab": {
          "base_uri": "https://localhost:8080/"
        }
      },
      "source": [
        "# Anahtar Kelimeli Argüman Kullanımına Örnek:\n",
        "def yazdır(a,b):\n",
        "  print(a,b) # string argümanlarını ekrana yazdırır\n",
        "\n",
        "yazdır(a=\"Selam\",b=\"Merhaba\")\n",
        "yazdır(b=\"Merhaba\",a=\"Selam\") # Anahtar kelimeli parametre kullanırsak parametre sırasını değiştirebiliriz, bu sonucu değiştirmez"
      ],
      "execution_count": null,
      "outputs": [
        {
          "output_type": "stream",
          "text": [
            "Selam Merhaba\n",
            "Selam Merhaba\n"
          ],
          "name": "stdout"
        }
      ]
    },
    {
      "cell_type": "code",
      "metadata": {
        "id": "Ki1kRyd9PT2P",
        "outputId": "8f6e7a93-b3bd-4425-9ddb-2189311d611d",
        "colab": {
          "base_uri": "https://localhost:8080/"
        }
      },
      "source": [
        "# Varsayılan Argüman Kullanımına Örnek:\n",
        "def marka_yeri(marka,ulke=\" ABD\"):\n",
        "  # Hangi markanın hangi ülkede olduğunu ekrana yazdıralım\n",
        "  print(\"Marka: \",marka)\n",
        "  print(\"Ülke: \",ulke)\n",
        "\n",
        "print(\"-------------------------\")\n",
        "marka_yeri(marka=\"Apple\")\n",
        "print(\"-------------------------\")\n",
        "marka_yeri(\"Samsung\",\" Güney Kore\")"
      ],
      "execution_count": null,
      "outputs": [
        {
          "output_type": "stream",
          "text": [
            "-------------------------\n",
            "Marka:  Apple\n",
            "Ülke:   ABD\n",
            "-------------------------\n",
            "Marka:  Samsung\n",
            "Ülke:   Güney Kore\n"
          ],
          "name": "stdout"
        }
      ]
    },
    {
      "cell_type": "code",
      "metadata": {
        "id": "em_H-kv3REhN",
        "outputId": "6e4aeaa9-f164-4905-ebe3-77a769ff0555",
        "colab": {
          "base_uri": "https://localhost:8080/"
        }
      },
      "source": [
        "# Değişken Uzunluklu Argüman Kullanımı\n",
        "def marka_yeri(marka,ulke,*urun):\n",
        "  # Hangi markanın hangi ülkede olduğunu ekrana yazdıralım\n",
        "  print(\"Marka: \",marka)\n",
        "  print(\"Ülke: \",ulke)\n",
        "  for var in urun:\n",
        "      print(\"->\", var)\n",
        "\n",
        "print(\"-------------------------\")\n",
        "marka_yeri(\"Apple\",\"ABD\",\"Iphone\",\"Ipad\",\"Apple Watch\")\n",
        "print(\"-------------------------\")\n",
        "marka_yeri(\"Samsung\",\" Güney Kore\",\"Galaxy Note\", \"Galaxy S\")"
      ],
      "execution_count": null,
      "outputs": [
        {
          "output_type": "stream",
          "text": [
            "-------------------------\n",
            "Marka:  Apple\n",
            "Ülke:  ABD\n",
            "-> Iphone\n",
            "-> Ipad\n",
            "-> Apple Watch\n",
            "-------------------------\n",
            "Marka:  Samsung\n",
            "Ülke:   Güney Kore\n",
            "-> Galaxy Note\n",
            "-> Galaxy S\n"
          ],
          "name": "stdout"
        }
      ]
    },
    {
      "cell_type": "code",
      "metadata": {
        "id": "MkDmRLLeTncd",
        "outputId": "2ab25661-2453-4712-d257-75fc814fed7b",
        "colab": {
          "base_uri": "https://localhost:8080/"
        }
      },
      "source": [
        "# Yerel ve Global Değişkenler\n",
        "a = \"Fonksiyon dışı değişken\"\n",
        "def ana_fonksiyon():\n",
        "  a1=\"a1 fonksiyonun içinde\"\n",
        "  print(\"Ana fonksiyounun içi\")\n",
        "  def alt_fonksiyon():\n",
        "    a2=\"Alt Fonksiyonun içi\"\n",
        "    print(\"Alt Fonkisyon a =\",a)\n",
        "    print(\"Alt Fonkisyon a1 =\",a1)\n",
        "    print(\"Alt Fonkisyon a2 =\",a2)\n",
        "    print(\"-----------------------\")\n",
        "  alt_fonksiyon()\n",
        "  print(\"Fonksiyon a = \",a)\n",
        "  print(\"Fonksiyon a1 = \",a1)\n",
        "  # print(\"Fonksiyon a2 = \",a2) # Hata verir\n",
        "ana_fonksiyon()\n",
        "print(\"Alt Fonkisyon a =\",a)\n",
        "# Hata Verir\n",
        "# print(\"Alt Fonkisyon a1 =\",a1)\n",
        "# print(\"Alt Fonkisyon a2 =\",a2)\n"
      ],
      "execution_count": null,
      "outputs": [
        {
          "output_type": "stream",
          "text": [
            "Ana fonksiyounun içi\n",
            "Alt Fonkisyon a = Fonksiyon dışı değişken\n",
            "Alt Fonkisyon a1 = a1 fonksiyonun içinde\n",
            "Alt Fonkisyon a2 = Alt Fonksiyonun içi\n",
            "-----------------------\n",
            "Fonksiyon a =  Fonksiyon dışı değişken\n",
            "Fonksiyon a1 =  a1 fonksiyonun içinde\n",
            "Alt Fonkisyon a = Fonksiyon dışı değişken\n"
          ],
          "name": "stdout"
        }
      ]
    },
    {
      "cell_type": "code",
      "metadata": {
        "id": "yBwLO6urixcf",
        "outputId": "ee6146ae-7326-47ef-c739-11f6f4f809ec",
        "colab": {
          "base_uri": "https://localhost:8080/"
        }
      },
      "source": [
        "# Yerel ve Global Değişkenler\n",
        "def ana_fonksiyon():\n",
        "  global a1\n",
        "  a1=\"a1 fonksiyonun içinde\"\n",
        "  print(\"Ana fonksiyounun içi\")\n",
        "  def alt_fonksiyon():\n",
        "    global a2\n",
        "    a2=\"Alt Fonksiyonun içi\"\n",
        "    print(\"Alt Fonkisyon a =\",a)\n",
        "    print(\"Alt Fonkisyon a1 =\",a1)\n",
        "    print(\"Alt Fonkisyon a2 =\",a2)\n",
        "    print(\"-----------------------\")\n",
        "  alt_fonksiyon()\n",
        "  print(\"Fonksiyon a = \",a)\n",
        "  print(\"Fonksiyon a1 = \",a1)\n",
        "  print(\"Fonksiyon a2 = \",a2) # Hata vermez\n",
        "ana_fonksiyon()\n",
        "print(\"Alt Fonkisyon a =\",a)\n",
        "# Hata Vermez\n",
        "print(\"Alt Fonkisyon a1 =\",a1)\n",
        "print(\"Alt Fonkisyon a2 =\",a2)"
      ],
      "execution_count": null,
      "outputs": [
        {
          "output_type": "stream",
          "text": [
            "Ana fonksiyounun içi\n",
            "Alt Fonkisyon a = Fonksiyon dışı değişken\n",
            "Alt Fonkisyon a1 = a1 fonksiyonun içinde\n",
            "Alt Fonkisyon a2 = Alt Fonksiyonun içi\n",
            "-----------------------\n",
            "Fonksiyon a =  Fonksiyon dışı değişken\n",
            "Fonksiyon a1 =  a1 fonksiyonun içinde\n",
            "Fonksiyon a2 =  Alt Fonksiyonun içi\n",
            "Alt Fonkisyon a = Fonksiyon dışı değişken\n",
            "Alt Fonkisyon a1 = a1 fonksiyonun içinde\n",
            "Alt Fonkisyon a2 = Alt Fonksiyonun içi\n"
          ],
          "name": "stdout"
        }
      ]
    },
    {
      "cell_type": "code",
      "metadata": {
        "id": "c54Nt6Mpm08N",
        "outputId": "4f000ace-a588-45c7-869a-d021627489b5",
        "colab": {
          "base_uri": "https://localhost:8080/"
        }
      },
      "source": [
        "# Lambda Fonksiyonu\n",
        "x = lambda a : a + 10\n",
        "print(x(5))"
      ],
      "execution_count": 1,
      "outputs": [
        {
          "output_type": "stream",
          "text": [
            "15\n"
          ],
          "name": "stdout"
        }
      ]
    },
    {
      "cell_type": "code",
      "metadata": {
        "id": "E8T8av82xNx8",
        "outputId": "b8e62136-0ac3-4d41-ec4c-eccc8008ece3",
        "colab": {
          "base_uri": "https://localhost:8080/"
        }
      },
      "source": [
        "# Örnek\n",
        "\n",
        "topla = lambda a, b: a + b\n",
        "carp = lambda a, b, c: a * b * c\n",
        "\n",
        "print(topla(2,8))\n",
        "print(carp(3,4,5))\n"
      ],
      "execution_count": 3,
      "outputs": [
        {
          "output_type": "stream",
          "text": [
            "10\n",
            "60\n"
          ],
          "name": "stdout"
        }
      ]
    },
    {
      "cell_type": "code",
      "metadata": {
        "id": "gONHGpktypWP",
        "outputId": "52df0c24-224b-4560-e92b-029626c7de85",
        "colab": {
          "base_uri": "https://localhost:8080/"
        }
      },
      "source": [
        "# return \n",
        "def toplama1(num1, num2):\n",
        "    toplam = num1 + num2\n",
        "    return toplam\n",
        "\n",
        "def toplama2(num1, num2):\n",
        "    return num1 + num2\n",
        "\n",
        "print(\"10 + 2 = \", toplama1(10,2))\n",
        "print(\"10 + 2 = \", toplama2(10,2))"
      ],
      "execution_count": 5,
      "outputs": [
        {
          "output_type": "stream",
          "text": [
            "10 + 2 =  12\n",
            "10 + 2 =  12\n"
          ],
          "name": "stdout"
        }
      ]
    },
    {
      "cell_type": "code",
      "metadata": {
        "id": "K_R5P2XWy1MC",
        "outputId": "ba7068a7-3ced-4b4b-cc23-53b019977822",
        "colab": {
          "base_uri": "https://localhost:8080/"
        }
      },
      "source": [
        "# Örnek\n",
        "def toplama(a,b,c):\n",
        "    return a+b+c # return'un kullanımı \n",
        "def ikiyle_çarp(a):\n",
        "    return a*2\n",
        " \n",
        "toplam = toplama(3,4,5)\n",
        "print(ikiyle_çarp(toplam))"
      ],
      "execution_count": 6,
      "outputs": [
        {
          "output_type": "stream",
          "text": [
            "24\n"
          ],
          "name": "stdout"
        }
      ]
    }
  ]
}