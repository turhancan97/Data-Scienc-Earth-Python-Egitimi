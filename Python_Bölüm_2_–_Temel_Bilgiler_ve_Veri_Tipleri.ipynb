{
  "nbformat": 4,
  "nbformat_minor": 0,
  "metadata": {
    "colab": {
      "name": "Python: Bölüm 2 – Temel Bilgiler ve Veri Tipleri.ipynb",
      "provenance": [],
      "authorship_tag": "ABX9TyOLhJWV7Ec/b+Rpd6nbRBfU",
      "include_colab_link": true
    },
    "kernelspec": {
      "name": "python3",
      "display_name": "Python 3"
    }
  },
  "cells": [
    {
      "cell_type": "markdown",
      "metadata": {
        "id": "view-in-github",
        "colab_type": "text"
      },
      "source": [
        "<a href=\"https://colab.research.google.com/github/turhancan97/Data-Science-Earth-Python-Egitimi/blob/master/Python_B%C3%B6l%C3%BCm_2_%E2%80%93_Temel_Bilgiler_ve_Veri_Tipleri.ipynb\" target=\"_parent\"><img src=\"https://colab.research.google.com/assets/colab-badge.svg\" alt=\"Open In Colab\"/></a>"
      ]
    },
    {
      "cell_type": "code",
      "metadata": {
        "id": "QC3rAMFm46rT",
        "outputId": "a4bef6e3-6444-4424-8756-52fa06ade33e",
        "colab": {
          "base_uri": "https://localhost:8080/",
          "height": 84
        }
      },
      "source": [
        "#İsimlendirme\n",
        "python = 3\n",
        "PYTHON = 5\n",
        "Abcd = 7\n",
        "_a = 9\n",
        "print(python)\n",
        "print(PYTHON)\n",
        "print(Abcd)\n",
        "print(_a)"
      ],
      "execution_count": null,
      "outputs": [
        {
          "output_type": "stream",
          "text": [
            "3\n",
            "5\n",
            "7\n",
            "9\n"
          ],
          "name": "stdout"
        }
      ]
    },
    {
      "cell_type": "code",
      "metadata": {
        "id": "5akAvb0r-iR1",
        "outputId": "6333fdf3-b1e8-40a7-ac0e-3a846e7c59e9",
        "colab": {
          "base_uri": "https://localhost:8080/",
          "height": 128
        }
      },
      "source": [
        ".a = 2"
      ],
      "execution_count": null,
      "outputs": [
        {
          "output_type": "error",
          "ename": "SyntaxError",
          "evalue": "ignored",
          "traceback": [
            "\u001b[0;36m  File \u001b[0;32m\"<ipython-input-21-46b4c83456f1>\"\u001b[0;36m, line \u001b[0;32m1\u001b[0m\n\u001b[0;31m    .a = 2\u001b[0m\n\u001b[0m    ^\u001b[0m\n\u001b[0;31mSyntaxError\u001b[0m\u001b[0;31m:\u001b[0m invalid syntax\n"
          ]
        }
      ]
    },
    {
      "cell_type": "code",
      "metadata": {
        "id": "omJYXdR--uDm",
        "outputId": "02e1a726-6e2a-4118-e15d-0430502e3b52",
        "colab": {
          "base_uri": "https://localhost:8080/",
          "height": 128
        }
      },
      "source": [
        "a?b = 4"
      ],
      "execution_count": null,
      "outputs": [
        {
          "output_type": "error",
          "ename": "SyntaxError",
          "evalue": "ignored",
          "traceback": [
            "\u001b[0;36m  File \u001b[0;32m\"<ipython-input-22-b3ace9d16f9e>\"\u001b[0;36m, line \u001b[0;32m1\u001b[0m\n\u001b[0;31m    a?b = 4\u001b[0m\n\u001b[0m     ^\u001b[0m\n\u001b[0;31mSyntaxError\u001b[0m\u001b[0;31m:\u001b[0m invalid syntax\n"
          ]
        }
      ]
    },
    {
      "cell_type": "code",
      "metadata": {
        "id": "sIC8mPxBDwxf",
        "outputId": "cc903514-e407-418e-fe62-854a4dc6a0d0",
        "colab": {
          "base_uri": "https://localhost:8080/",
          "height": 34
        }
      },
      "source": [
        "def _carpma(x,y):\n",
        "  return x*y\n",
        "\n",
        "_carpma(10,4)"
      ],
      "execution_count": null,
      "outputs": [
        {
          "output_type": "execute_result",
          "data": {
            "text/plain": [
              "40"
            ]
          },
          "metadata": {
            "tags": []
          },
          "execution_count": 23
        }
      ]
    },
    {
      "cell_type": "code",
      "metadata": {
        "id": "Eqy2nAy9EFkz",
        "outputId": "ad5bce0a-6acd-4977-c895-9a7873e79839",
        "colab": {
          "base_uri": "https://localhost:8080/",
          "height": 128
        }
      },
      "source": [
        "def 1carpma(x,y):\n",
        "  return x*y\n",
        "\n",
        "1carpma()"
      ],
      "execution_count": null,
      "outputs": [
        {
          "output_type": "error",
          "ename": "SyntaxError",
          "evalue": "ignored",
          "traceback": [
            "\u001b[0;36m  File \u001b[0;32m\"<ipython-input-24-caedf2ec183c>\"\u001b[0;36m, line \u001b[0;32m1\u001b[0m\n\u001b[0;31m    def 1carpma(x,y):\u001b[0m\n\u001b[0m        ^\u001b[0m\n\u001b[0;31mSyntaxError\u001b[0m\u001b[0;31m:\u001b[0m invalid syntax\n"
          ]
        }
      ]
    },
    {
      "cell_type": "code",
      "metadata": {
        "id": "0pB-KnhVEjnr",
        "outputId": "4c4be70d-b818-49a7-9ee5-00c618b7fadc",
        "colab": {
          "base_uri": "https://localhost:8080/",
          "height": 101
        }
      },
      "source": [
        "# Girinti Mekanizması\n",
        "liste = [1,2,3,4,5]\n",
        "for i in range(5):\n",
        "  liste[i] = liste[i]*2\n",
        "  print(liste[i])"
      ],
      "execution_count": null,
      "outputs": [
        {
          "output_type": "stream",
          "text": [
            "2\n",
            "4\n",
            "6\n",
            "8\n",
            "10\n"
          ],
          "name": "stdout"
        }
      ]
    },
    {
      "cell_type": "code",
      "metadata": {
        "id": "fXnM_8W2OFpu",
        "outputId": "2736812f-f6d5-46ee-b553-5b44fedd1ac7",
        "colab": {
          "base_uri": "https://localhost:8080/",
          "height": 119
        }
      },
      "source": [
        "# Yorum Satırı\n",
        "liste = [1,2,3,4,5] # Bir liste oluşturduk\n",
        "for i in range(5): # For döngüsü ile liste elemanlarına tek tek erişebildik.\n",
        "  liste[i] = liste[i]*2 # her gir elemanı 2 ile çarptık\n",
        "  print(liste[i]) # 2 ile çarpılan elemanları yukarıdan aşağıya yazdırdık\n",
        "\"\"\"\n",
        "Yukarıda ki gibi kodlarınızda yorum satırı oluşturursanız\n",
        "ileride kodunuzu okuyunca, yazdığınız programı anlama şansınız daha\n",
        "yüksek olur.\n",
        "\"\"\""
      ],
      "execution_count": null,
      "outputs": [
        {
          "output_type": "stream",
          "text": [
            "2\n",
            "4\n",
            "6\n",
            "8\n",
            "10\n"
          ],
          "name": "stdout"
        },
        {
          "output_type": "execute_result",
          "data": {
            "application/vnd.google.colaboratory.intrinsic+json": {
              "type": "string"
            },
            "text/plain": [
              "'\\nYukarıda ki gibi kodlarınızda yorum satırı oluşturursanız\\nileride kodunuzu okuyunca, yazdığınız programı anlama şansınız daha\\nyüksek olur.\\n'"
            ]
          },
          "metadata": {
            "tags": []
          },
          "execution_count": 26
        }
      ]
    },
    {
      "cell_type": "code",
      "metadata": {
        "id": "8lfVs59vyiu9",
        "outputId": "046222bc-5cda-49f6-9d63-c196fd01e6d9",
        "colab": {
          "base_uri": "https://localhost:8080/",
          "height": 50
        }
      },
      "source": [
        "# Stringler\n",
        "string1 = \"ali\"\n",
        "string2 = \"veli\"\n",
        "print(string1 + string2) # Stringleri toplama işlemiyle birbirlerine ekleyebiliriz\n",
        "print(string1 * 4) # Çarpma işlemiyle bir stringi istediğimiz kadar tekrarlatabiliriz"
      ],
      "execution_count": null,
      "outputs": [
        {
          "output_type": "stream",
          "text": [
            "aliveli\n",
            "alialialiali\n"
          ],
          "name": "stdout"
        }
      ]
    },
    {
      "cell_type": "code",
      "metadata": {
        "id": "EHLTI1cNyvjz",
        "outputId": "acb48167-8ee1-4d69-ed61-7536f5b16597",
        "colab": {
          "base_uri": "https://localhost:8080/",
          "height": 34
        }
      },
      "source": [
        "# Listeler\n",
        "liste = [] # Boş liste\n",
        "liste_1 = [2,4,6,8] # içinde faklı rakamlar içeren bir liste\n",
        "liste_2 = [1,\"string\",liste_1] # içinde 3 farklı veri tipi içeren bir liste\n",
        "print(liste_2)"
      ],
      "execution_count": null,
      "outputs": [
        {
          "output_type": "stream",
          "text": [
            "[1, 'string', [2, 4, 6, 8]]\n"
          ],
          "name": "stdout"
        }
      ]
    },
    {
      "cell_type": "code",
      "metadata": {
        "id": "v6of1fLl0B3_",
        "outputId": "7f73bedd-eeb3-49f8-ba9b-bb62d8367fdd",
        "colab": {
          "base_uri": "https://localhost:8080/",
          "height": 34
        }
      },
      "source": [
        "# Demetler\n",
        "tuple_0 = (1,2,3) # Örnek bir tuple\n",
        "tuple_1 = (\"a\",1,5,tuple_0,liste_1) # Farklı veri tipleri içeren bir tuple\n",
        "print(tuple_1)"
      ],
      "execution_count": null,
      "outputs": [
        {
          "output_type": "stream",
          "text": [
            "('a', 1, 5, (1, 2, 3), [2, 4, 6, 8])\n"
          ],
          "name": "stdout"
        }
      ]
    },
    {
      "cell_type": "code",
      "metadata": {
        "id": "5l_YMjCX23B0",
        "outputId": "cc36a744-af6a-40eb-9896-e4ccdce90b55",
        "colab": {
          "base_uri": "https://localhost:8080/",
          "height": 34
        }
      },
      "source": [
        "print(tuple_1[0]) # Bu şekilde tupleların elemanlarına erişebiliyoruz, merak etmeyin ilerki bölümlerde bu konu daha detaylı ele alınacak"
      ],
      "execution_count": null,
      "outputs": [
        {
          "output_type": "stream",
          "text": [
            "a\n"
          ],
          "name": "stdout"
        }
      ]
    },
    {
      "cell_type": "code",
      "metadata": {
        "id": "wS0jiAKX3eo6",
        "outputId": "a1e1aac3-eb79-4671-9560-4d41346f19ec",
        "colab": {
          "base_uri": "https://localhost:8080/",
          "height": 162
        }
      },
      "source": [
        "tuple_1[0] = \"b\" # 1. elemanı değiştirmeye çalıştım ve hata aldık. Bu durumun sebebi Tupleların immutable olmasıdır"
      ],
      "execution_count": null,
      "outputs": [
        {
          "output_type": "error",
          "ename": "TypeError",
          "evalue": "ignored",
          "traceback": [
            "\u001b[0;31m---------------------------------------------------------------------------\u001b[0m",
            "\u001b[0;31mTypeError\u001b[0m                                 Traceback (most recent call last)",
            "\u001b[0;32m<ipython-input-13-235dbed6c8ff>\u001b[0m in \u001b[0;36m<module>\u001b[0;34m()\u001b[0m\n\u001b[0;32m----> 1\u001b[0;31m \u001b[0mtuple_1\u001b[0m\u001b[0;34m[\u001b[0m\u001b[0;36m0\u001b[0m\u001b[0;34m]\u001b[0m \u001b[0;34m=\u001b[0m \u001b[0;34m\"b\"\u001b[0m\u001b[0;34m\u001b[0m\u001b[0;34m\u001b[0m\u001b[0m\n\u001b[0m",
            "\u001b[0;31mTypeError\u001b[0m: 'tuple' object does not support item assignment"
          ]
        }
      ]
    },
    {
      "cell_type": "code",
      "metadata": {
        "id": "gvoQa_nm7tDX",
        "outputId": "eb9248cb-fed6-4599-99c6-5ccbb516f514",
        "colab": {
          "base_uri": "https://localhost:8080/",
          "height": 34
        }
      },
      "source": [
        "# Kümeler\n",
        "kume_1 = {\"kedi\",\"kopek\",\"kuş\"}\n",
        "print(kume_1)"
      ],
      "execution_count": null,
      "outputs": [
        {
          "output_type": "stream",
          "text": [
            "{'kuş', 'kedi', 'kopek'}\n"
          ],
          "name": "stdout"
        }
      ]
    },
    {
      "cell_type": "code",
      "metadata": {
        "id": "KBolu7j23i1b",
        "outputId": "24506290-6107-4300-a821-d6a703bc0aef",
        "colab": {
          "base_uri": "https://localhost:8080/",
          "height": 34
        }
      },
      "source": [
        "a = [1,2,2,3,3,3] # Bir liste oluşturduk.\n",
        "a = set(a) # daha sonra bu listeyi set() fonksiyonunun argümanı olarak girdik.\n",
        "print(a) # Ve görüldüğü gibi kümeye dönüştü, hiç bir eleman tekrar etmedi."
      ],
      "execution_count": null,
      "outputs": [
        {
          "output_type": "stream",
          "text": [
            "{1, 2, 3}\n"
          ],
          "name": "stdout"
        }
      ]
    },
    {
      "cell_type": "code",
      "metadata": {
        "id": "J3js1M_96Y_K",
        "outputId": "bb9b30ce-22f2-4214-a3bf-fc9c2c70923f",
        "colab": {
          "base_uri": "https://localhost:8080/",
          "height": 50
        }
      },
      "source": [
        "# Sözlükler\n",
        "capital = {\"Turkey\": \"Ankara\", \"Poland\": \"Warsaw\", \"Germany\":\"Berlin\"}\n",
        "print(capital)\n",
        "print(capital[\"Turkey\"])"
      ],
      "execution_count": null,
      "outputs": [
        {
          "output_type": "stream",
          "text": [
            "{'Turkey': 'Ankara', 'Poland': 'Warsaw', 'Germany': 'Berlin'}\n",
            "Ankara\n"
          ],
          "name": "stdout"
        }
      ]
    }
  ]
}