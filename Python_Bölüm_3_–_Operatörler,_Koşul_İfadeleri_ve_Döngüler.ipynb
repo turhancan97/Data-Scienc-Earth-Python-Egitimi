{
  "nbformat": 4,
  "nbformat_minor": 0,
  "metadata": {
    "colab": {
      "name": "Python: Bölüm 3 – Operatörler, Koşul İfadeleri ve Döngüler.ipynb",
      "provenance": [],
      "authorship_tag": "ABX9TyPMKpBtvr0q3oZJPbqAxf6z",
      "include_colab_link": true
    },
    "kernelspec": {
      "name": "python3",
      "display_name": "Python 3"
    }
  },
  "cells": [
    {
      "cell_type": "markdown",
      "metadata": {
        "id": "view-in-github",
        "colab_type": "text"
      },
      "source": [
        "<a href=\"https://colab.research.google.com/github/turhancan97/Data-Science-Earth-Python-Egitimi/blob/master/Python_B%C3%B6l%C3%BCm_3_%E2%80%93_Operat%C3%B6rler%2C_Ko%C5%9Ful_%C4%B0fadeleri_ve_D%C3%B6ng%C3%BCler.ipynb\" target=\"_parent\"><img src=\"https://colab.research.google.com/assets/colab-badge.svg\" alt=\"Open In Colab\"/></a>"
      ]
    },
    {
      "cell_type": "code",
      "metadata": {
        "id": "xt5QETQkVBBv",
        "outputId": "995adfd6-ae40-450a-a9f9-e1d42d25c848",
        "colab": {
          "base_uri": "https://localhost:8080/",
          "height": 672
        }
      },
      "source": [
        "# dir() fonksiyonu\n",
        "a = [1,2,3,4]\n",
        "b = {2,4,6,8}\n",
        "dir()"
      ],
      "execution_count": null,
      "outputs": [
        {
          "output_type": "execute_result",
          "data": {
            "text/plain": [
              "['In',\n",
              " 'Out',\n",
              " '_',\n",
              " '_1',\n",
              " '_2',\n",
              " '_3',\n",
              " '_4',\n",
              " '_5',\n",
              " '_6',\n",
              " '_7',\n",
              " '__',\n",
              " '___',\n",
              " '__builtin__',\n",
              " '__builtins__',\n",
              " '__doc__',\n",
              " '__loader__',\n",
              " '__name__',\n",
              " '__package__',\n",
              " '__spec__',\n",
              " '_dh',\n",
              " '_i',\n",
              " '_i1',\n",
              " '_i2',\n",
              " '_i3',\n",
              " '_i4',\n",
              " '_i5',\n",
              " '_i6',\n",
              " '_i7',\n",
              " '_i8',\n",
              " '_ih',\n",
              " '_ii',\n",
              " '_iii',\n",
              " '_oh',\n",
              " '_sh',\n",
              " 'a',\n",
              " 'b',\n",
              " 'exit',\n",
              " 'get_ipython',\n",
              " 'quit']"
            ]
          },
          "metadata": {
            "tags": []
          },
          "execution_count": 8
        }
      ]
    },
    {
      "cell_type": "code",
      "metadata": {
        "id": "M0J-gOlfZCEr",
        "outputId": "bf008e2f-d43d-4c69-b83f-1302bd4e778f",
        "colab": {
          "base_uri": "https://localhost:8080/",
          "height": 790
        }
      },
      "source": [
        "dir(a)"
      ],
      "execution_count": null,
      "outputs": [
        {
          "output_type": "execute_result",
          "data": {
            "text/plain": [
              "['__add__',\n",
              " '__class__',\n",
              " '__contains__',\n",
              " '__delattr__',\n",
              " '__delitem__',\n",
              " '__dir__',\n",
              " '__doc__',\n",
              " '__eq__',\n",
              " '__format__',\n",
              " '__ge__',\n",
              " '__getattribute__',\n",
              " '__getitem__',\n",
              " '__gt__',\n",
              " '__hash__',\n",
              " '__iadd__',\n",
              " '__imul__',\n",
              " '__init__',\n",
              " '__init_subclass__',\n",
              " '__iter__',\n",
              " '__le__',\n",
              " '__len__',\n",
              " '__lt__',\n",
              " '__mul__',\n",
              " '__ne__',\n",
              " '__new__',\n",
              " '__reduce__',\n",
              " '__reduce_ex__',\n",
              " '__repr__',\n",
              " '__reversed__',\n",
              " '__rmul__',\n",
              " '__setattr__',\n",
              " '__setitem__',\n",
              " '__sizeof__',\n",
              " '__str__',\n",
              " '__subclasshook__',\n",
              " 'append',\n",
              " 'clear',\n",
              " 'copy',\n",
              " 'count',\n",
              " 'extend',\n",
              " 'index',\n",
              " 'insert',\n",
              " 'pop',\n",
              " 'remove',\n",
              " 'reverse',\n",
              " 'sort']"
            ]
          },
          "metadata": {
            "tags": []
          },
          "execution_count": 6
        }
      ]
    },
    {
      "cell_type": "code",
      "metadata": {
        "id": "f-j97VA3ZJPP",
        "outputId": "4240ee9f-298b-4698-f7d7-a13b77e608e7",
        "colab": {
          "base_uri": "https://localhost:8080/",
          "height": 34
        }
      },
      "source": [
        "# Yukarıda listelerinin sort isimli bir metot aldığını görebiliriz. Bunu bir örnekte kullanalım\n",
        "c = [4,5,8,1,3]\n",
        "c.sort()\n",
        "c # Görüldüğü gibi karışık verdiğimiz rakamları sıraladı"
      ],
      "execution_count": null,
      "outputs": [
        {
          "output_type": "execute_result",
          "data": {
            "text/plain": [
              "[1, 3, 4, 5, 8]"
            ]
          },
          "metadata": {
            "tags": []
          },
          "execution_count": 17
        }
      ]
    },
    {
      "cell_type": "code",
      "metadata": {
        "id": "WeUZGKEefGNK",
        "outputId": "f87d66e2-fd0c-4f91-89e5-cdc77efd88b7",
        "colab": {
          "base_uri": "https://localhost:8080/",
          "height": 218
        }
      },
      "source": [
        "# help() fonksiyonu\n",
        "help(print)"
      ],
      "execution_count": null,
      "outputs": [
        {
          "output_type": "stream",
          "text": [
            "Help on built-in function print in module builtins:\n",
            "\n",
            "print(...)\n",
            "    print(value, ..., sep=' ', end='\\n', file=sys.stdout, flush=False)\n",
            "    \n",
            "    Prints the values to a stream, or to sys.stdout by default.\n",
            "    Optional keyword arguments:\n",
            "    file:  a file-like object (stream); defaults to the current sys.stdout.\n",
            "    sep:   string inserted between values, default a space.\n",
            "    end:   string appended after the last value, default a newline.\n",
            "    flush: whether to forcibly flush the stream.\n",
            "\n"
          ],
          "name": "stdout"
        }
      ]
    },
    {
      "cell_type": "code",
      "metadata": {
        "id": "L1jWhgA5zccs",
        "outputId": "0f748386-dcd2-4862-ea15-406b7dcf0266",
        "colab": {
          "base_uri": "https://localhost:8080/",
          "height": 67
        }
      },
      "source": [
        "country = {\"Turkey\": \"Istanbul\",\n",
        "           \"Germany\": \"Berlin\",\n",
        "           \"USA\":\"New York\"}\n",
        "list_1 = [1,2,3,4,5,6,7,8,9]\n",
        "tuple_1 = (2,4,6,8,10)\n",
        "print(type(country))\n",
        "print(type(list_1))\n",
        "print(type(tuple_1))"
      ],
      "execution_count": null,
      "outputs": [
        {
          "output_type": "stream",
          "text": [
            "<class 'dict'>\n",
            "<class 'list'>\n",
            "<class 'tuple'>\n"
          ],
          "name": "stdout"
        }
      ]
    },
    {
      "cell_type": "code",
      "metadata": {
        "id": "8ZHkFg6517_D",
        "outputId": "2d422c58-1f6b-434c-cac3-0e36939c449d",
        "colab": {
          "base_uri": "https://localhost:8080/",
          "height": 134
        }
      },
      "source": [
        "# Aritmetik İşlem Operatörleri\n",
        "x = 40\n",
        "y = 5\n",
        "print(\"x + y = \", x+y)\n",
        "print(\"x - y = \", x-y)\n",
        "print(\"x * y = \", x*y)\n",
        "print(\"x / y = \", x/y)\n",
        "print(\"x // y = \", x//y)\n",
        "print(\"10'un 3 ile bölümünden kalan = \",10%3)\n",
        "print(\"10 üssü 2 = \",10**2)"
      ],
      "execution_count": null,
      "outputs": [
        {
          "output_type": "stream",
          "text": [
            "x + y =  45\n",
            "x - y =  35\n",
            "x * y =  200\n",
            "x / y =  8.0\n",
            "x // y =  8\n",
            "10'un 3 ile bölümünden kalan =  1\n",
            "10 üssü 2 =  100\n"
          ],
          "name": "stdout"
        }
      ]
    },
    {
      "cell_type": "code",
      "metadata": {
        "id": "-z4yB_Tm3bcI",
        "outputId": "49822003-b3ab-45f2-837b-8e5a1b9e69a2",
        "colab": {
          "base_uri": "https://localhost:8080/",
          "height": 67
        }
      },
      "source": [
        "# Mantık Operatörleri\n",
        "a = True\n",
        "b = False\n",
        "print('a and b =',a and b)\n",
        "print('a or b =',a or b)\n",
        "print('not a =',not a)"
      ],
      "execution_count": null,
      "outputs": [
        {
          "output_type": "stream",
          "text": [
            "a and b = False\n",
            "a or b = True\n",
            "not a = False\n"
          ],
          "name": "stdout"
        }
      ]
    },
    {
      "cell_type": "code",
      "metadata": {
        "id": "F849J82U-SF0",
        "outputId": "4a31d476-5529-4938-be15-2db1b21118fb",
        "colab": {
          "base_uri": "https://localhost:8080/",
          "height": 118
        }
      },
      "source": [
        "# Kıyaslama Operatörleri\n",
        "print(10<2)\n",
        "print(10>2)\n",
        "print(10==10)\n",
        "print(20>=2)\n",
        "print(20<=2)\n",
        "print(1 is 1)"
      ],
      "execution_count": null,
      "outputs": [
        {
          "output_type": "stream",
          "text": [
            "False\n",
            "True\n",
            "True\n",
            "True\n",
            "False\n",
            "True\n"
          ],
          "name": "stdout"
        }
      ]
    },
    {
      "cell_type": "code",
      "metadata": {
        "id": "n0arvUmO-nty",
        "outputId": "18ebb644-161c-4967-e99e-24c38ec7fdd1",
        "colab": {
          "base_uri": "https://localhost:8080/",
          "height": 34
        }
      },
      "source": [
        "# Koşul ifadeleri\n",
        "a = 100\n",
        "b = 200\n",
        "if b > a:\n",
        "  print(\"b büyüktür a\")"
      ],
      "execution_count": null,
      "outputs": [
        {
          "output_type": "stream",
          "text": [
            "b büyüktür a\n"
          ],
          "name": "stdout"
        }
      ]
    },
    {
      "cell_type": "code",
      "metadata": {
        "id": "KOE59dzQeu6G",
        "outputId": "a8e59646-900d-44d0-ebe4-2b6e894be896",
        "colab": {
          "base_uri": "https://localhost:8080/",
          "height": 34
        }
      },
      "source": [
        "x = 20\n",
        "y = 10\n",
        "if x < y:\n",
        "  print(\"x küçüktür y\")\n",
        "print(\"x büyüktür y\")"
      ],
      "execution_count": null,
      "outputs": [
        {
          "output_type": "stream",
          "text": [
            "x büyüktür y\n"
          ],
          "name": "stdout"
        }
      ]
    },
    {
      "cell_type": "code",
      "metadata": {
        "id": "q--FcKqFfyne",
        "outputId": "d5684e48-349e-4854-fcce-565e1ceeeab8",
        "colab": {
          "base_uri": "https://localhost:8080/",
          "height": 50
        }
      },
      "source": [
        "# Bir başka örnek\n",
        "k = 5\n",
        "z = 10\n",
        "print(\"k = \",k,\"z = \",z)\n",
        "if k > z:\n",
        "  print(\"k z'den büyüktür\")\n",
        "if k < z:\n",
        "  print(\"k z'den küçüktür\")\n",
        "if k==z:\n",
        "  print(\"k = z\")\n"
      ],
      "execution_count": null,
      "outputs": [
        {
          "output_type": "stream",
          "text": [
            "k =  5 z =  10\n",
            "k z'den küçüktür\n"
          ],
          "name": "stdout"
        }
      ]
    },
    {
      "cell_type": "code",
      "metadata": {
        "id": "WRiHTXWQgATX",
        "outputId": "e13ea96f-5c08-4df1-85ae-c4c24a249899",
        "colab": {
          "base_uri": "https://localhost:8080/",
          "height": 34
        }
      },
      "source": [
        "num = 3\n",
        "\n",
        "if num >= 0:\n",
        "    print(\"Positif veya Sıfır\")\n",
        "else:\n",
        "    print(\"Negatif\")"
      ],
      "execution_count": null,
      "outputs": [
        {
          "output_type": "stream",
          "text": [
            "Positif veya Sıfır\n"
          ],
          "name": "stdout"
        }
      ]
    },
    {
      "cell_type": "code",
      "metadata": {
        "id": "7Unxj-Guhl-5",
        "outputId": "3929922c-ed1f-403a-c962-3224ef672248",
        "colab": {
          "base_uri": "https://localhost:8080/",
          "height": 34
        }
      },
      "source": [
        "num1 = 0\n",
        "\n",
        "if num1 > 0:\n",
        "    print(\"Positif\")\n",
        "elif num1 == 0:\n",
        "    print(\"Sıfır\")\n",
        "else:\n",
        "    print(\"Negatif\")"
      ],
      "execution_count": null,
      "outputs": [
        {
          "output_type": "stream",
          "text": [
            "Sıfır\n"
          ],
          "name": "stdout"
        }
      ]
    },
    {
      "cell_type": "code",
      "metadata": {
        "id": "KCk9vG3NjN_G",
        "outputId": "aab57b0b-ad9e-4719-cee0-fa12e9c2e90f",
        "colab": {
          "base_uri": "https://localhost:8080/",
          "height": 101
        }
      },
      "source": [
        "# Bir başka örnek\n",
        "countries = [\"Turkiye\",\"ABD\",\"Almanya\",\"Kanada\",\"Polonya\"]\n",
        "for country in countries:\n",
        "  if country == \"Turkiye\":\n",
        "    print(country,\"'in Başkenti Ankara'dır\")\n",
        "  elif country == \"ABD\":\n",
        "    print(country,\"'nın Başkenti Washington, DC'dir\")\n",
        "  elif country == \"Almanya\":\n",
        "    print(country,\"'nın Başkenti Berlin'dir\")\n",
        "  elif country == \"Kanada\":\n",
        "    print(country,\"'nın Başkenti Ottava'dır\")\n",
        "  else:\n",
        "    print(\"Başka ülke yok\")"
      ],
      "execution_count": null,
      "outputs": [
        {
          "output_type": "stream",
          "text": [
            "Turkiye 'in Başkenti Ankara'dır\n",
            "ABD 'nın Başkenti Washington, DC'dir\n",
            "Almanya 'nın Başkenti Berlin'dir\n",
            "Kanada 'nın Başkenti Ottava'dır\n",
            "Başka ülke yok\n"
          ],
          "name": "stdout"
        }
      ]
    },
    {
      "cell_type": "code",
      "metadata": {
        "id": "iV2PCjLEkn7w",
        "outputId": "455910f8-a79a-48f1-fdbd-bc0a08d75a7f",
        "colab": {
          "base_uri": "https://localhost:8080/",
          "height": 84
        }
      },
      "source": [
        "# Son Örnek - Bu örnekte bir derste aldığın derslerin ortalamasına göre aldığın notu yazdıran bir uygulama görüyoruz\n",
        "# Vize Sınavı %30 - Ödev %30 - Final Sınavı ise %40 etkiliyor\n",
        "midterm = float(input('Vize Notu: '))\n",
        "final = float(input('Final Notu: '))\n",
        "homework = float(input('Ödev Notu: '))\n",
        "\n",
        "ortalama = midterm*0.3 + final*0.4 + homework*0.3\n",
        "\n",
        "if (ortalama>=0) and (ortalama<25):\n",
        "     print(f'ortalamanız: {ortalama} notunuz: FF')\n",
        "elif (ortalama >= 25 ) and (ortalama<45):\n",
        "     print(f'ortalamanız: {ortalama} notunuz: DD')\n",
        "elif (ortalama >= 45 ) and (ortalama<55):\n",
        "    print(f'ortalamanız: {ortalama} notunuz: CC')\n",
        "elif (ortalama >= 55 ) and (ortalama<70):\n",
        "    print(f'ortalamanız: {ortalama} notunuz: BB')\n",
        "elif (ortalama >= 70 ) and (ortalama<85):\n",
        "    print(f'ortalamanız: {ortalama} notunuz: BA')\n",
        "elif (ortalama >= 85 ) and (ortalama<=100):\n",
        "    print(f'ortalamanız: {ortalama} notunuz: AA')\n",
        "else:\n",
        "    print('yanlış bilgi girdiniz.')"
      ],
      "execution_count": null,
      "outputs": [
        {
          "output_type": "stream",
          "text": [
            "Vize Notu: 80\n",
            "Final Notu: 90\n",
            "Ödev Notu: 35\n",
            "ortalamanız: 70.5 notunuz: BA\n"
          ],
          "name": "stdout"
        }
      ]
    }
  ]
}