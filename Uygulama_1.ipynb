{
  "nbformat": 4,
  "nbformat_minor": 0,
  "metadata": {
    "colab": {
      "name": "Uygulama_1.ipynb",
      "provenance": [],
      "authorship_tag": "ABX9TyNLkNur2hodqk8VMlDyGOVo",
      "include_colab_link": true
    },
    "kernelspec": {
      "name": "python3",
      "display_name": "Python 3"
    }
  },
  "cells": [
    {
      "cell_type": "markdown",
      "metadata": {
        "id": "view-in-github",
        "colab_type": "text"
      },
      "source": [
        "<a href=\"https://colab.research.google.com/github/turhancan97/Data-Science-Earth-Python-Egitimi/blob/master/Uygulama_1.ipynb\" target=\"_parent\"><img src=\"https://colab.research.google.com/assets/colab-badge.svg\" alt=\"Open In Colab\"/></a>"
      ]
    },
    {
      "cell_type": "code",
      "metadata": {
        "id": "wTfPIP4wfm-h",
        "outputId": "9be186a7-2dcd-485d-ba2c-cc789645a067",
        "colab": {
          "base_uri": "https://localhost:8080/"
        }
      },
      "source": [
        "#Fibonacci Dizisi İteratif \n",
        "liste=[]\n",
        "eleman=int(input(\"Eleman Sayısı:\")) \n",
        "for i in range(eleman): \n",
        "    if i<=1: \n",
        "      liste+=[i] \n",
        "    else: \n",
        "      liste+=[liste[(i-1)]+liste[(i-2)]]    \n",
        "print(liste) "
      ],
      "execution_count": null,
      "outputs": [
        {
          "output_type": "stream",
          "text": [
            "Eleman Sayısı:3\n",
            "[0, 1, 1]\n"
          ],
          "name": "stdout"
        }
      ]
    },
    {
      "cell_type": "code",
      "metadata": {
        "id": "XApfpeg7fyWY",
        "outputId": "edcdd799-6248-4274-bc9e-b721617c9cdb",
        "colab": {
          "base_uri": "https://localhost:8080/"
        }
      },
      "source": [
        "#Fibonacci Dizisi Fonksiyon \n",
        "def fib(n): \n",
        "  if n<=1: \n",
        "    return n \n",
        "  else:\n",
        "    return fib(n-1)+fib(n-2) \n",
        "   \n",
        "liste=[] \n",
        "element=int(input(\"Eleman Sayısı:\")) \n",
        "   \n",
        "if element<=0:\n",
        "  print(\"Pozitif Sayı Giriniz\") \n",
        "else:\n",
        "  for i in range(element):\n",
        "    liste+=[fib(i)] \n",
        "   \n",
        "print(liste)"
      ],
      "execution_count": null,
      "outputs": [
        {
          "output_type": "stream",
          "text": [
            "Eleman Sayısı:10\n",
            "[0, 1, 1, 2, 3, 5, 8, 13, 21, 34]\n"
          ],
          "name": "stdout"
        }
      ]
    },
    {
      "cell_type": "code",
      "metadata": {
        "id": "O1AkTdYkga9X",
        "outputId": "eac2f6d9-d336-497b-abc6-dc42b05ef78e",
        "colab": {
          "base_uri": "https://localhost:8080/"
        }
      },
      "source": [
        "#Collatz Dizisi\n",
        "def collatz(n):\n",
        "    while n > 1:\n",
        "        print(n, end=' ')\n",
        "        if (n % 2):\n",
        "            # n is odd\n",
        "            n = 3*n + 1\n",
        "        else:\n",
        "            # n is even\n",
        "            n = n//2\n",
        "    print(1, end='')\n",
        "    \n",
        "n = int(input('Başlangıç Sayısı: '))\n",
        "print('Seri: ', end='')\n",
        "collatz(n)"
      ],
      "execution_count": null,
      "outputs": [
        {
          "output_type": "stream",
          "text": [
            "Başlangıç Sayısı: 39\n",
            "Seri: 39 118 59 178 89 268 134 67 202 101 304 152 76 38 19 58 29 88 44 22 11 34 17 52 26 13 40 20 10 5 16 8 4 2 1"
          ],
          "name": "stdout"
        }
      ]
    },
    {
      "cell_type": "code",
      "metadata": {
        "id": "01JszoTqigbF"
      },
      "source": [
        ""
      ],
      "execution_count": null,
      "outputs": []
    }
  ]
}