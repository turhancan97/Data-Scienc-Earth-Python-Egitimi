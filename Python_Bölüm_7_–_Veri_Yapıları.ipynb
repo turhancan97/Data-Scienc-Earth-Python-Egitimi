{
  "nbformat": 4,
  "nbformat_minor": 0,
  "metadata": {
    "colab": {
      "name": "Python: Bölüm 7 – Veri Yapıları.ipynb",
      "provenance": [],
      "authorship_tag": "ABX9TyMosLmOGNXRpGbMjbaR4KH1",
      "include_colab_link": true
    },
    "kernelspec": {
      "name": "python3",
      "display_name": "Python 3"
    }
  },
  "cells": [
    {
      "cell_type": "markdown",
      "metadata": {
        "id": "view-in-github",
        "colab_type": "text"
      },
      "source": [
        "<a href=\"https://colab.research.google.com/github/turhancan97/Data-Science-Earth-Python-Egitimi/blob/master/Python_B%C3%B6l%C3%BCm_7_%E2%80%93_Veri_Yap%C4%B1lar%C4%B1.ipynb\" target=\"_parent\"><img src=\"https://colab.research.google.com/assets/colab-badge.svg\" alt=\"Open In Colab\"/></a>"
      ]
    },
    {
      "cell_type": "code",
      "metadata": {
        "colab": {
          "base_uri": "https://localhost:8080/"
        },
        "id": "pPXNPf0fYnef",
        "outputId": "3168a9b2-3a23-4803-80c8-1d7e8f4b76f1"
      },
      "source": [
        "# Liste Veri Yapısı\r\n",
        "## Listeler, tek bir değişkende birden çok öğeyi depolamak için kullanılır.\r\n",
        "listem = [\"Elma\", \"Muz\", \"Çilek\"]\r\n",
        "print(listem)\r\n",
        "print(len(listem))\r\n",
        "\r\n",
        "# Görüldüğü gibi liste içine her tip veri alabilir\r\n",
        "list1 = [\"apple\", \"banana\", \"cherry\"]\r\n",
        "list2 = [1, 5, 7, 9, 3]\r\n",
        "list3 = [True, False, False]\r\n",
        "list4 = [\"Ali\",1,True]\r\n",
        "print(list1+list2+list3+list4)\r\n",
        "print(type(list1))"
      ],
      "execution_count": 5,
      "outputs": [
        {
          "output_type": "stream",
          "text": [
            "['Elma', 'Muz', 'Çilek']\n",
            "3\n",
            "['apple', 'banana', 'cherry', 1, 5, 7, 9, 3, True, False, False, 'Ali', 1, True]\n",
            "<class 'list'>\n"
          ],
          "name": "stdout"
        }
      ]
    },
    {
      "cell_type": "code",
      "metadata": {
        "colab": {
          "base_uri": "https://localhost:8080/"
        },
        "id": "AsHHHFPSyIB7",
        "outputId": "ce0e9331-2e32-48d4-b724-266abef8ec65"
      },
      "source": [
        "# Tuple Veri Yapısı\r\n",
        "## Tuple, değiştirilemez bir veri yapısıdır.\r\n",
        "tuple1 = (\"Elma\", \"Muz\", \"Çilek\")\r\n",
        "print(tuple1)\r\n",
        "print(len(tuple1))\r\n",
        "\r\n",
        "## Yalnızca bir öğe içeren bir tuple oluşturmak için, öğeden sonra bir virgül eklemeniz gerekir, aksi takdirde Python onu bir tuple olarak tanımaz.\r\n",
        "thistuple = (\"apple\",)\r\n",
        "print(type(thistuple))\r\n",
        "#tuple değil\r\n",
        "thistuple = (\"apple\")\r\n",
        "print(type(thistuple))"
      ],
      "execution_count": 9,
      "outputs": [
        {
          "output_type": "stream",
          "text": [
            "('Elma', 'Muz', 'Çilek')\n",
            "3\n",
            "<class 'tuple'>\n",
            "<class 'str'>\n"
          ],
          "name": "stdout"
        }
      ]
    },
    {
      "cell_type": "code",
      "metadata": {
        "colab": {
          "base_uri": "https://localhost:8080/"
        },
        "id": "PbGAZE5oz7R9",
        "outputId": "bf925eab-da8b-4555-b4c7-5bc4b5fcf83e"
      },
      "source": [
        "# Distionary (Sözlük) Veri Yapısı\r\n",
        "## Sözlükler, veri değerlerini anahtar: değer çiftlerinde saklamak için kullanılır.\r\n",
        "## Sözlükler süslü parantezlerle yazılır ve anahtarları ve değerleri vardır\r\n",
        "sozluk = {\r\n",
        "  \"marka\": \"Ford\",\r\n",
        "  \"model\": \"Mustang\",\r\n",
        "  \"yıl\": 1964\r\n",
        "}\r\n",
        "print(sozluk)\r\n",
        "print(type(sozluk))"
      ],
      "execution_count": 11,
      "outputs": [
        {
          "output_type": "stream",
          "text": [
            "{'marka': 'Ford', 'model': 'Mustang', 'yıl': 1964}\n",
            "<class 'dict'>\n"
          ],
          "name": "stdout"
        }
      ]
    },
    {
      "cell_type": "code",
      "metadata": {
        "colab": {
          "base_uri": "https://localhost:8080/"
        },
        "id": "5G_a7e2f0TQn",
        "outputId": "7482aa80-d617-4d1b-86b8-29d1ef830956"
      },
      "source": [
        "# Küme (Set) Veri Yapısı\r\n",
        "## Kümeler, birden çok öğeyi tek bir değişkende saklamak için kullanılır.\r\n",
        "## Bir küme, hem sırasız hem de indexsiz bir koleksiyondur. Setler süslü parantezler arasına yazılır.\r\n",
        "kume = {\"elma\", \"muz\", \"çilek\"}\r\n",
        "print(kume)\r\n",
        "print(type(kume))"
      ],
      "execution_count": 12,
      "outputs": [
        {
          "output_type": "stream",
          "text": [
            "{'çilek', 'muz', 'elma'}\n",
            "<class 'set'>\n"
          ],
          "name": "stdout"
        }
      ]
    },
    {
      "cell_type": "code",
      "metadata": {
        "colab": {
          "base_uri": "https://localhost:8080/"
        },
        "id": "7G_xucKE00QZ",
        "outputId": "10ac7646-525e-4967-8e6d-0dfbe9050fd1"
      },
      "source": [
        "# String Veri Yapısı\r\n",
        "## Python'daki stringler, tek tırnak işaretleri veya çift tırnak işaretleri ile çevrilidir.\r\n",
        "## Print() fonksiyonuyla bir stringi görüntüleyebilirsiniz\r\n",
        "print(\"Hello\")\r\n",
        "print('Hello')\r\n",
        "\r\n",
        "a = \"Ali\"\r\n",
        "print(a)\r\n",
        "print(type(a))"
      ],
      "execution_count": 13,
      "outputs": [
        {
          "output_type": "stream",
          "text": [
            "Hello\n",
            "Hello\n",
            "Ali\n",
            "<class 'str'>\n"
          ],
          "name": "stdout"
        }
      ]
    }
  ]
}