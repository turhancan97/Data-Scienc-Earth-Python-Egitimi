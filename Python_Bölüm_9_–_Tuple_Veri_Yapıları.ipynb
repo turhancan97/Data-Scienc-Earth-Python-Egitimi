{
  "nbformat": 4,
  "nbformat_minor": 0,
  "metadata": {
    "colab": {
      "name": "Python: Bölüm 9 – Tuple Veri Yapıları.ipynb",
      "provenance": [],
      "authorship_tag": "ABX9TyMn8NGslxUzYvcm0tk20A17",
      "include_colab_link": true
    },
    "kernelspec": {
      "name": "python3",
      "display_name": "Python 3"
    },
    "language_info": {
      "name": "python"
    }
  },
  "cells": [
    {
      "cell_type": "markdown",
      "metadata": {
        "id": "view-in-github",
        "colab_type": "text"
      },
      "source": [
        "<a href=\"https://colab.research.google.com/github/turhancan97/Data-Science-Earth-Python-Egitimi/blob/master/Python_B%C3%B6l%C3%BCm_9_%E2%80%93_Tuple_Veri_Yap%C4%B1lar%C4%B1.ipynb\" target=\"_parent\"><img src=\"https://colab.research.google.com/assets/colab-badge.svg\" alt=\"Open In Colab\"/></a>"
      ]
    },
    {
      "cell_type": "code",
      "metadata": {
        "colab": {
          "base_uri": "https://localhost:8080/"
        },
        "id": "EguJNotK6Uop",
        "outputId": "df69dee7-33fe-443b-c615-428710cba5fd"
      },
      "source": [
        "# Örnek bir tuple veri yapısı\n",
        "A = (1,2,[2,3,4,5],\"a\",\"b\")\n",
        "print(A)"
      ],
      "execution_count": null,
      "outputs": [
        {
          "output_type": "stream",
          "text": [
            "(1, 2, [2, 3, 4, 5], 'a', 'b')\n"
          ],
          "name": "stdout"
        }
      ]
    },
    {
      "cell_type": "code",
      "metadata": {
        "colab": {
          "base_uri": "https://localhost:8080/",
          "height": 186
        },
        "id": "KruVrm8U7EAg",
        "outputId": "6411b24b-2ed7-4550-d868-6dbf50b15a8c"
      },
      "source": [
        "# Demetlerin elemanlarına doğrudan atama yapılamaz!!!\n",
        "A[1]= 33"
      ],
      "execution_count": null,
      "outputs": [
        {
          "output_type": "error",
          "ename": "TypeError",
          "evalue": "ignored",
          "traceback": [
            "\u001b[0;31m---------------------------------------------------------------------------\u001b[0m",
            "\u001b[0;31mTypeError\u001b[0m                                 Traceback (most recent call last)",
            "\u001b[0;32m<ipython-input-2-5bb459070eba>\u001b[0m in \u001b[0;36m<module>\u001b[0;34m()\u001b[0m\n\u001b[1;32m      1\u001b[0m \u001b[0;31m# Demetlerin elemanlarına doğrudan atama yapılamaz!!!\u001b[0m\u001b[0;34m\u001b[0m\u001b[0;34m\u001b[0m\u001b[0;34m\u001b[0m\u001b[0m\n\u001b[0;32m----> 2\u001b[0;31m \u001b[0mA\u001b[0m\u001b[0;34m[\u001b[0m\u001b[0;36m1\u001b[0m\u001b[0;34m]\u001b[0m\u001b[0;34m=\u001b[0m \u001b[0;36m33\u001b[0m\u001b[0;34m\u001b[0m\u001b[0;34m\u001b[0m\u001b[0m\n\u001b[0m",
            "\u001b[0;31mTypeError\u001b[0m: 'tuple' object does not support item assignment"
          ]
        }
      ]
    },
    {
      "cell_type": "code",
      "metadata": {
        "colab": {
          "base_uri": "https://localhost:8080/"
        },
        "id": "Sg4ykxnV7TX8",
        "outputId": "ed302287-f78f-4f83-dc63-88261b38a1b4"
      },
      "source": [
        " # Demet içindeki listenin elemanını değiştirmek\n",
        " A[2][2] = 1\n",
        " A"
      ],
      "execution_count": null,
      "outputs": [
        {
          "output_type": "execute_result",
          "data": {
            "text/plain": [
              "(1, 2, [2, 3, 1, 5], 'a', 'b')"
            ]
          },
          "metadata": {
            "tags": []
          },
          "execution_count": 3
        }
      ]
    },
    {
      "cell_type": "code",
      "metadata": {
        "colab": {
          "base_uri": "https://localhost:8080/"
        },
        "id": "73_FKrFg9GmN",
        "outputId": "218b4b03-a480-40be-9eca-899b663344cb"
      },
      "source": [
        "# De[metlerde eleman çekebilir ve dilimleme yapabiliriz.\n",
        "print(A[1])\n",
        "print(A[0:3])"
      ],
      "execution_count": null,
      "outputs": [
        {
          "output_type": "stream",
          "text": [
            "2\n",
            "(1, 2, [2, 3, 1, 5])\n"
          ],
          "name": "stdout"
        }
      ]
    },
    {
      "cell_type": "code",
      "metadata": {
        "colab": {
          "base_uri": "https://localhost:8080/"
        },
        "id": "bOg1dL3l9ihy",
        "outputId": "bd88610e-4b32-45e1-b2d9-1e639a3bcd16"
      },
      "source": [
        "# Eleman kontrolü\n",
        "1 in A"
      ],
      "execution_count": null,
      "outputs": [
        {
          "output_type": "execute_result",
          "data": {
            "text/plain": [
              "True"
            ]
          },
          "metadata": {
            "tags": []
          },
          "execution_count": 10
        }
      ]
    },
    {
      "cell_type": "code",
      "metadata": {
        "colab": {
          "base_uri": "https://localhost:8080/"
        },
        "id": "ith_3VOA9sJW",
        "outputId": "49f8f6e9-8aeb-4a38-a441-1dc3b3b17dcc"
      },
      "source": [
        "12 in A"
      ],
      "execution_count": null,
      "outputs": [
        {
          "output_type": "execute_result",
          "data": {
            "text/plain": [
              "False"
            ]
          },
          "metadata": {
            "tags": []
          },
          "execution_count": 11
        }
      ]
    },
    {
      "cell_type": "code",
      "metadata": {
        "colab": {
          "base_uri": "https://localhost:8080/"
        },
        "id": "FLPyTN8S9wm1",
        "outputId": "6ef9c887-c06a-4040-a52f-34b001475dbc"
      },
      "source": [
        "# Bazı demet fonksiyonları\n",
        "B = (1,3,5,7,9,11)\n",
        "print(len(B), \"Demet boyu\")\n",
        "print(max(B),\"en büyük değer\")\n",
        "print(min(B), \"en küçük değer\")\n",
        "print(sum(B), \"elemanların toplamı\")"
      ],
      "execution_count": null,
      "outputs": [
        {
          "output_type": "stream",
          "text": [
            "6 Demet boyu\n",
            "11 en büyük değer\n",
            "1 en küçük değer\n",
            "36 elemanların toplamı\n"
          ],
          "name": "stdout"
        }
      ]
    },
    {
      "cell_type": "code",
      "metadata": {
        "colab": {
          "base_uri": "https://localhost:8080/"
        },
        "id": "vKshEfKy-hvL",
        "outputId": "496a7142-b610-42c4-b00d-e326e6936c54"
      },
      "source": [
        "# Liste veri yapısını demet veri yapısına dönüştürme\n",
        "X = [1,2,\"a\",\"b\"]\n",
        "type(X)"
      ],
      "execution_count": null,
      "outputs": [
        {
          "output_type": "execute_result",
          "data": {
            "text/plain": [
              "list"
            ]
          },
          "metadata": {
            "tags": []
          },
          "execution_count": 17
        }
      ]
    },
    {
      "cell_type": "code",
      "metadata": {
        "colab": {
          "base_uri": "https://localhost:8080/"
        },
        "id": "xj7kVhJq-tBX",
        "outputId": "587c31c2-686b-4bef-9ce3-f43d9824f9d2"
      },
      "source": [
        "X = tuple(X)\n",
        "type(X)"
      ],
      "execution_count": null,
      "outputs": [
        {
          "output_type": "execute_result",
          "data": {
            "text/plain": [
              "tuple"
            ]
          },
          "metadata": {
            "tags": []
          },
          "execution_count": 19
        }
      ]
    },
    {
      "cell_type": "code",
      "metadata": {
        "id": "0M8KnGU3_PzA"
      },
      "source": [
        "# Pakatleme ve Paket açma\n",
        "q = (3,5,\"asd\",\"tr\") # paketleme\n",
        "(d,f,g,h) = q # paket açma"
      ],
      "execution_count": null,
      "outputs": []
    },
    {
      "cell_type": "code",
      "metadata": {
        "colab": {
          "base_uri": "https://localhost:8080/"
        },
        "id": "6794jX1s_fWj",
        "outputId": "a1450568-3b1f-4981-a356-b420a786ed76"
      },
      "source": [
        "print(d)\n",
        "print(f)\n",
        "print(g)\n",
        "print(h)"
      ],
      "execution_count": null,
      "outputs": [
        {
          "output_type": "stream",
          "text": [
            "3\n",
            "5\n",
            "asd\n",
            "tr\n"
          ],
          "name": "stdout"
        }
      ]
    }
  ]
}