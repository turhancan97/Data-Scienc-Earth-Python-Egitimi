{
  "nbformat": 4,
  "nbformat_minor": 0,
  "metadata": {
    "colab": {
      "name": "Python: Bölüm 4 – Döngüler",
      "provenance": [],
      "authorship_tag": "ABX9TyPLWkj44M1NxpUkuHQV1AhS",
      "include_colab_link": true
    },
    "kernelspec": {
      "name": "python3",
      "display_name": "Python 3"
    }
  },
  "cells": [
    {
      "cell_type": "markdown",
      "metadata": {
        "id": "view-in-github",
        "colab_type": "text"
      },
      "source": [
        "<a href=\"https://colab.research.google.com/github/turhancan97/Data-Science-Earth-Python-Egitimi/blob/master/Python_B%C3%B6l%C3%BCm_4_%E2%80%93_D%C3%B6ng%C3%BCler.ipynb\" target=\"_parent\"><img src=\"https://colab.research.google.com/assets/colab-badge.svg\" alt=\"Open In Colab\"/></a>"
      ]
    },
    {
      "cell_type": "code",
      "metadata": {
        "id": "yEIxbbvJUCLP",
        "outputId": "c2804fa9-5da3-4bee-cc96-14d4ee3df0e1",
        "colab": {
          "base_uri": "https://localhost:8080/",
          "height": 134
        }
      },
      "source": [
        "# For Döngüsü\n",
        "liste = [1,2,3,[3,4,5],\"İzmir\",\"İstanbul\",\"Ankara\"]\n",
        "for i in liste:\n",
        "  print(i)"
      ],
      "execution_count": null,
      "outputs": [
        {
          "output_type": "stream",
          "text": [
            "1\n",
            "2\n",
            "3\n",
            "[3, 4, 5]\n",
            "İzmir\n",
            "İstanbul\n",
            "Ankara\n"
          ],
          "name": "stdout"
        }
      ]
    },
    {
      "cell_type": "code",
      "metadata": {
        "id": "fsUSmhLxUONc",
        "outputId": "94fe44ea-4e3d-44bf-e0d3-a63fc2b6164f",
        "colab": {
          "base_uri": "https://localhost:8080/",
          "height": 67
        }
      },
      "source": [
        "isimler = ['Ali','Veli','Ayşe']\n",
        "for isim in isimler:\n",
        "    print(f'Benim adım {isim}')"
      ],
      "execution_count": null,
      "outputs": [
        {
          "output_type": "stream",
          "text": [
            "Benim adım Ali\n",
            "Benim adım Veli\n",
            "Benim adım Ayşe\n"
          ],
          "name": "stdout"
        }
      ]
    },
    {
      "cell_type": "code",
      "metadata": {
        "id": "3hzlnBKNVXJg",
        "outputId": "8e482592-23bf-4e98-d0d0-70ba2a30d5d0",
        "colab": {
          "base_uri": "https://localhost:8080/",
          "height": 67
        }
      },
      "source": [
        "name = 'Ali'\n",
        "for n in name:\n",
        "    print(n)"
      ],
      "execution_count": null,
      "outputs": [
        {
          "output_type": "stream",
          "text": [
            "A\n",
            "l\n",
            "i\n"
          ],
          "name": "stdout"
        }
      ]
    },
    {
      "cell_type": "code",
      "metadata": {
        "id": "rfexSygK7ejy",
        "outputId": "c4861b52-abc7-44ff-825e-002d74467b8f",
        "colab": {
          "base_uri": "https://localhost:8080/",
          "height": 185
        }
      },
      "source": [
        "# While Döngüsü\n",
        "a = 0\n",
        "while a<10:\n",
        "  print(a)\n",
        "  a = a + 1"
      ],
      "execution_count": null,
      "outputs": [
        {
          "output_type": "stream",
          "text": [
            "0\n",
            "1\n",
            "2\n",
            "3\n",
            "4\n",
            "5\n",
            "6\n",
            "7\n",
            "8\n",
            "9\n"
          ],
          "name": "stdout"
        }
      ]
    },
    {
      "cell_type": "code",
      "metadata": {
        "id": "bGxovhsb7qWC",
        "outputId": "88e4125b-c845-493c-b8ae-cc0255e5bd6e",
        "colab": {
          "base_uri": "https://localhost:8080/",
          "height": 185
        }
      },
      "source": [
        "# Yukarıdaki örneği yeniden düzenleyelim\n",
        "a = 0\n",
        "while True:\n",
        "  print(a)\n",
        "  a = a + 1\n",
        "  if a >= 10:\n",
        "    break"
      ],
      "execution_count": null,
      "outputs": [
        {
          "output_type": "stream",
          "text": [
            "0\n",
            "1\n",
            "2\n",
            "3\n",
            "4\n",
            "5\n",
            "6\n",
            "7\n",
            "8\n",
            "9\n"
          ],
          "name": "stdout"
        }
      ]
    },
    {
      "cell_type": "code",
      "metadata": {
        "id": "LkObKZ2wK8QP",
        "outputId": "aced8e4a-5066-4846-975a-a22db183f835",
        "colab": {
          "base_uri": "https://localhost:8080/",
          "height": 185
        }
      },
      "source": [
        "# Continue komutu kullanımı\n",
        "b = 0\n",
        "while True:\n",
        "  b = b + 1\n",
        "  if b % 2 == 1:\n",
        "    continue\n",
        "  elif b>20:\n",
        "    break\n",
        "  else:\n",
        "    print(b)"
      ],
      "execution_count": null,
      "outputs": [
        {
          "output_type": "stream",
          "text": [
            "2\n",
            "4\n",
            "6\n",
            "8\n",
            "10\n",
            "12\n",
            "14\n",
            "16\n",
            "18\n",
            "20\n"
          ],
          "name": "stdout"
        }
      ]
    },
    {
      "cell_type": "code",
      "metadata": {
        "id": "LCmt0ZCuMwwH",
        "outputId": "ae3bd1c9-ed86-4f7b-c12d-945fb57a46e3",
        "colab": {
          "base_uri": "https://localhost:8080/",
          "height": 1000
        }
      },
      "source": [
        "# Örnek\n",
        "x = 1\n",
        "while x <= 100:\n",
        "    if x % 2==1:\n",
        "        print(f'sayı tek: {x}')\n",
        "    else:\n",
        "        print(f'sayı çift: {x}')\n",
        "    x += 1\n",
        "\n",
        "print('bitti...')"
      ],
      "execution_count": null,
      "outputs": [
        {
          "output_type": "stream",
          "text": [
            "sayı tek: 1\n",
            "sayı çift: 2\n",
            "sayı tek: 3\n",
            "sayı çift: 4\n",
            "sayı tek: 5\n",
            "sayı çift: 6\n",
            "sayı tek: 7\n",
            "sayı çift: 8\n",
            "sayı tek: 9\n",
            "sayı çift: 10\n",
            "sayı tek: 11\n",
            "sayı çift: 12\n",
            "sayı tek: 13\n",
            "sayı çift: 14\n",
            "sayı tek: 15\n",
            "sayı çift: 16\n",
            "sayı tek: 17\n",
            "sayı çift: 18\n",
            "sayı tek: 19\n",
            "sayı çift: 20\n",
            "sayı tek: 21\n",
            "sayı çift: 22\n",
            "sayı tek: 23\n",
            "sayı çift: 24\n",
            "sayı tek: 25\n",
            "sayı çift: 26\n",
            "sayı tek: 27\n",
            "sayı çift: 28\n",
            "sayı tek: 29\n",
            "sayı çift: 30\n",
            "sayı tek: 31\n",
            "sayı çift: 32\n",
            "sayı tek: 33\n",
            "sayı çift: 34\n",
            "sayı tek: 35\n",
            "sayı çift: 36\n",
            "sayı tek: 37\n",
            "sayı çift: 38\n",
            "sayı tek: 39\n",
            "sayı çift: 40\n",
            "sayı tek: 41\n",
            "sayı çift: 42\n",
            "sayı tek: 43\n",
            "sayı çift: 44\n",
            "sayı tek: 45\n",
            "sayı çift: 46\n",
            "sayı tek: 47\n",
            "sayı çift: 48\n",
            "sayı tek: 49\n",
            "sayı çift: 50\n",
            "sayı tek: 51\n",
            "sayı çift: 52\n",
            "sayı tek: 53\n",
            "sayı çift: 54\n",
            "sayı tek: 55\n",
            "sayı çift: 56\n",
            "sayı tek: 57\n",
            "sayı çift: 58\n",
            "sayı tek: 59\n",
            "sayı çift: 60\n",
            "sayı tek: 61\n",
            "sayı çift: 62\n",
            "sayı tek: 63\n",
            "sayı çift: 64\n",
            "sayı tek: 65\n",
            "sayı çift: 66\n",
            "sayı tek: 67\n",
            "sayı çift: 68\n",
            "sayı tek: 69\n",
            "sayı çift: 70\n",
            "sayı tek: 71\n",
            "sayı çift: 72\n",
            "sayı tek: 73\n",
            "sayı çift: 74\n",
            "sayı tek: 75\n",
            "sayı çift: 76\n",
            "sayı tek: 77\n",
            "sayı çift: 78\n",
            "sayı tek: 79\n",
            "sayı çift: 80\n",
            "sayı tek: 81\n",
            "sayı çift: 82\n",
            "sayı tek: 83\n",
            "sayı çift: 84\n",
            "sayı tek: 85\n",
            "sayı çift: 86\n",
            "sayı tek: 87\n",
            "sayı çift: 88\n",
            "sayı tek: 89\n",
            "sayı çift: 90\n",
            "sayı tek: 91\n",
            "sayı çift: 92\n",
            "sayı tek: 93\n",
            "sayı çift: 94\n",
            "sayı tek: 95\n",
            "sayı çift: 96\n",
            "sayı tek: 97\n",
            "sayı çift: 98\n",
            "sayı tek: 99\n",
            "sayı çift: 100\n",
            "bitti...\n"
          ],
          "name": "stdout"
        }
      ]
    },
    {
      "cell_type": "code",
      "metadata": {
        "id": "NiFSCeCePoQB",
        "outputId": "a97ea683-6fe0-41a6-e194-fadc3ccf983d",
        "colab": {
          "base_uri": "https://localhost:8080/",
          "height": 52
        }
      },
      "source": [
        "for x in range(11):\n",
        "    print(x, end=\"-\")\n",
        "'''\n",
        "Başlangıç ve artış miktarı\n",
        "parametreleri belirtilmediği \n",
        "zaman default olarak başlangıç\n",
        "değerini 0 ve artış miktarını 1\n",
        "olarak kabul ederek işlem yapmaktadır.\n",
        "Burada 0'dan 10'a kadar olan sayıları\n",
        "for döngüsü yardımı ile yazdırdık.\n",
        "Verilen tek parametre bitiş parametresidir.\n",
        "Bitiş parametresi dahil değildir.\n",
        "'''"
      ],
      "execution_count": null,
      "outputs": [
        {
          "output_type": "stream",
          "text": [
            "0-1-2-3-4-5-6-7-8-9-10-"
          ],
          "name": "stdout"
        },
        {
          "output_type": "execute_result",
          "data": {
            "application/vnd.google.colaboratory.intrinsic+json": {
              "type": "string"
            },
            "text/plain": [
              "\"\\nBaşlangıç ve artış miktarı\\nparametreleri belirtilmediği \\nzaman default olarak başlangıç\\ndeğerini 0 ve artış miktarını 1\\nolarak kabul ederek işlem yapmaktadır.\\nBurada 0'dan 10'a kadar olan sayıları\\nfor döngüsü yardımı ile yazdırdık.\\nVerilen tek parametre bitiş parametresidir.\\nBitiş parametresi dahil değildir.\\n\""
            ]
          },
          "metadata": {
            "tags": []
          },
          "execution_count": 21
        }
      ]
    },
    {
      "cell_type": "code",
      "metadata": {
        "id": "XaOuUid7PyGl",
        "outputId": "e829059e-168c-4c9b-e467-fa749fb73974",
        "colab": {
          "base_uri": "https://localhost:8080/",
          "height": 52
        }
      },
      "source": [
        "for x in range(5, 11):\n",
        "    print(x, end=\"-\")\n",
        "'''\n",
        "Burada iki parametre belirtiyoruz.\n",
        "Bu parametreler başlangıç değeri\n",
        "ve bitiş değeridir.\n",
        "Artış miktarı parametresini belirtmediğimiz\n",
        "için default olarak bu parametreyi 1 kabul\n",
        "ederek işlem yapmaktadır.\n",
        "'''"
      ],
      "execution_count": null,
      "outputs": [
        {
          "output_type": "stream",
          "text": [
            "5-6-7-8-9-10-"
          ],
          "name": "stdout"
        },
        {
          "output_type": "execute_result",
          "data": {
            "application/vnd.google.colaboratory.intrinsic+json": {
              "type": "string"
            },
            "text/plain": [
              "'\\nBurada iki parametre belirtiyoruz.\\nBu parametreler başlangıç değeri\\nve bitiş değeridir.\\nArtış miktarı parametresini belirtmediğimiz\\niçin default olarak bu parametreyi 1 kabul\\nederek işlem yapmaktadır.\\n'"
            ]
          },
          "metadata": {
            "tags": []
          },
          "execution_count": 22
        }
      ]
    },
    {
      "cell_type": "code",
      "metadata": {
        "id": "YOANA60vP6L3",
        "outputId": "d8b64630-fb9b-497f-8620-ff58c870c85f",
        "colab": {
          "base_uri": "https://localhost:8080/",
          "height": 35
        }
      },
      "source": [
        "for x in range(5, 30, 5):\n",
        "    print(x, end=\"-\")\n",
        "'''\n",
        "Her üç parametreyi de belirttik.\n",
        "Parametrelerden ilki başlangıç değeri\n",
        "ikincisi bitiş değeri\n",
        "ve üçüncüsü de artış miktarı parametresidir.\n",
        "'''"
      ],
      "execution_count": null,
      "outputs": [
        {
          "output_type": "stream",
          "text": [
            "5-10-15-20-25-"
          ],
          "name": "stdout"
        },
        {
          "output_type": "execute_result",
          "data": {
            "application/vnd.google.colaboratory.intrinsic+json": {
              "type": "string"
            },
            "text/plain": [
              "'\\nHer üç parametreyi de belirttik.\\nParametrelerden ilki başlangıç değeri\\nikincisi bitiş değeri\\nve üçüncüsü de artış miktarı parametresidir.\\n'"
            ]
          },
          "metadata": {
            "tags": []
          },
          "execution_count": 23
        }
      ]
    }
  ]
}